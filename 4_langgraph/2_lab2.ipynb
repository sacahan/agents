{
 "cells": [
  {
   "cell_type": "markdown",
   "metadata": {},
   "source": [
    "### And welcome to Week 4, Day 3 - more LangGraph.."
   ]
  },
  {
   "cell_type": "code",
   "execution_count": null,
   "metadata": {},
   "outputs": [],
   "source": [
    "# 匯入型別註釋工具，方便後續型別標註\n",
    "from typing import Annotated\n",
    "# 匯入 LangGraph 的狀態圖與起始點常數\n",
    "from langgraph.graph import StateGraph, START, END\n",
    "# 匯入訊息處理工具，協助訊息串接\n",
    "from langgraph.graph.message import add_messages\n",
    "# 匯入 dotenv，載入環境變數，管理敏感資訊\n",
    "from dotenv import load_dotenv\n",
    "# 匯入 IPython 顯示工具，可用於顯示圖片\n",
    "from IPython.display import Image, display\n",
    "# 匯入 Gradio，建立互動式網頁介面\n",
    "import gradio as gr\n",
    "# 匯入 LangGraph 預設工具節點與條件判斷\n",
    "from langgraph.prebuilt import ToolNode, tools_condition\n",
    "# 匯入 requests 套件，進行 HTTP 請求\n",
    "import requests\n",
    "# 匯入 os 套件，操作作業系統與環境變數\n",
    "import os\n",
    "# 匯入 LangChain OpenAI 聊天模型\n",
    "from langchain_openai import ChatOpenAI\n",
    "# 匯入 TypedDict，定義型別字典\n",
    "from typing import TypedDict\n"
   ]
  },
  {
   "cell_type": "code",
   "execution_count": null,
   "metadata": {},
   "outputs": [],
   "source": [
    "# Our favorite first step! Crew was doing this for us, by the way.\n",
    "load_dotenv(override=True)\n",
    "\n",
    "print(f\"OPENAI_API_KEY: {os.getenv('OPENAI_API_KEY')}\")\n",
    "print(f\"LANGSMITH_API_KEY: {os.getenv('LANGSMITH_API_KEY')}\")\n",
    "print(f\"LANGSMITH_PROJECT: {os.getenv('LANGSMITH_PROJECT')}\")\n",
    "print(f\"LANGSMITH_TRACING: {os.getenv('LANGSMITH_TRACING')}\")\n"
   ]
  },
  {
   "cell_type": "markdown",
   "metadata": {},
   "source": [
    "### First, let's go set up LangSmith!\n",
    "\n",
    "https://langsmith.com"
   ]
  },
  {
   "cell_type": "markdown",
   "metadata": {},
   "source": [
    "### Next, here is a useful function in LangChain community:"
   ]
  },
  {
   "cell_type": "code",
   "execution_count": null,
   "metadata": {},
   "outputs": [],
   "source": [
    "from langchain_community.utilities import GoogleSerperAPIWrapper\n",
    "\n",
    "# GoogleSerperAPIWrapper 用於與 Google Serper API 互動，進行網路搜尋\n",
    "serper = GoogleSerperAPIWrapper()\n",
    "serper.run(\"What is the capital of France?\")"
   ]
  },
  {
   "cell_type": "markdown",
   "metadata": {},
   "source": [
    "### Now here is a LangChain wrapper class for converting functions into Tools"
   ]
  },
  {
   "cell_type": "code",
   "execution_count": null,
   "metadata": {},
   "outputs": [],
   "source": [
    "from langchain.agents import Tool\n",
    "\n",
    "tool_search =Tool(\n",
    "        name=\"search\",\n",
    "        func=serper.run,\n",
    "        description=\"Useful for when you need more information from an online search\"\n",
    "    )\n",
    "\n"
   ]
  },
  {
   "cell_type": "markdown",
   "metadata": {},
   "source": [
    "### Now we can try out the tool the langchain way"
   ]
  },
  {
   "cell_type": "code",
   "execution_count": null,
   "metadata": {},
   "outputs": [],
   "source": [
    "tool_search.invoke(\"What is the capital of France?\")"
   ]
  },
  {
   "cell_type": "markdown",
   "metadata": {},
   "source": [
    "### And now let's write a tool ourselves\n",
    "\n",
    "We'll pick a familiar one"
   ]
  },
  {
   "cell_type": "code",
   "execution_count": null,
   "metadata": {},
   "outputs": [],
   "source": [
    "pushover_token = os.getenv(\"PUSHOVER_TOKEN\", \"\")\n",
    "pushover_user = os.getenv(\"PUSHOVER_USER\", \"\")\n",
    "pushover_url = \"https://api.pushover.net/1/messages.json\"\n",
    "\n",
    "def push(text: str):\n",
    "    \"\"\"Send a push notification to the user\"\"\"\n",
    "    # requests.post(pushover_url, data = {\"token\": pushover_token, \"user\": pushover_user, \"message\": text})"
   ]
  },
  {
   "cell_type": "code",
   "execution_count": null,
   "metadata": {},
   "outputs": [],
   "source": [
    "tool_push = Tool(\n",
    "        name=\"send_push_notification\",\n",
    "        func=push,\n",
    "        description=\"useful for when you want to send a push notification\"\n",
    "    )\n",
    "\n",
    "tool_push.invoke(\"Hello, me\")"
   ]
  },
  {
   "cell_type": "markdown",
   "metadata": {},
   "source": [
    "### 回到昨天的圖形流程\n",
    "\n",
    "有一個小改動——將 State 物件由 BaseModel 改為 TypedDict。\n",
    "\n",
    "當我們實作工具時，通常需要對程式碼做兩個改動：\n",
    "\n",
    "1. 在呼叫 OpenAI 時，需將工具以 json 格式提供給模型。\n",
    "\n",
    "2. 回傳結果時，需處理模型回傳 finish_reason==\"tool_calls\" 的情境，取得呼叫內容、執行對應函式，並回傳結果。"
   ]
  },
  {
   "cell_type": "markdown",
   "metadata": {},
   "source": [
    "### Bring them together"
   ]
  },
  {
   "cell_type": "code",
   "execution_count": null,
   "metadata": {},
   "outputs": [],
   "source": [
    "tools = [tool_search, tool_push]"
   ]
  },
  {
   "cell_type": "code",
   "execution_count": null,
   "metadata": {},
   "outputs": [],
   "source": [
    "# Step 1: Define the State object\n",
    "class State(TypedDict):\n",
    "    messages: Annotated[list, add_messages]"
   ]
  },
  {
   "cell_type": "code",
   "execution_count": null,
   "metadata": {},
   "outputs": [],
   "source": [
    "# Step 2: Start the Graph Builder with this State class\n",
    "graph_builder = StateGraph(State)"
   ]
  },
  {
   "cell_type": "code",
   "execution_count": null,
   "metadata": {},
   "outputs": [],
   "source": [
    "# 建立 OpenAI 聊天模型物件，指定使用 gpt-4o-mini 模型\n",
    "llm = ChatOpenAI(model=\"gpt-4o-mini\")\n",
    "# 將工具綁定到聊天模型，讓模型作為指定的工具\n",
    "llm_with_tools = llm.bind_tools(tools)"
   ]
  },
  {
   "cell_type": "code",
   "execution_count": null,
   "metadata": {},
   "outputs": [],
   "source": [
    "# Step 3: 建立節點（Node）\n",
    "\n",
    "# 定義 chatbot 節點，負責處理訊息並呼叫 LLM 工具\n",
    "def chatbot(state: State):\n",
    "    # 將目前的訊息列表傳給 llm_with_tools，取得模型回應後包裝成新的訊息\n",
    "    # State接受字典格式，包含 messages 鍵的列表： messages: Annotated[list, add_messages]\n",
    "    return {\"messages\": [llm_with_tools.invoke(state[\"messages\"])]}\n",
    "\n",
    "# 將 chatbot 節點加入到圖形流程中\n",
    "graph_builder.add_node(\"chatbot\", chatbot)\n",
    "# 將工具節點加入到圖形流程中，讓流程能呼叫工具\n",
    "graph_builder.add_node(\"tools\", ToolNode(tools=tools))"
   ]
  },
  {
   "cell_type": "code",
   "execution_count": null,
   "metadata": {},
   "outputs": [],
   "source": [
    "# Step 4: 建立流程邊（Edge），定義節點間的連接與條件\n",
    "\n",
    "# 設定 chatbot 節點的條件式邊，當 tools_condition 成立時，流程會轉到 tools 節點\n",
    "# tools_condition 是一個函數，當 LLM 回覆帶有 \"tool_calls\" 時會回傳 True，表示需要呼叫工具\n",
    "graph_builder.add_conditional_edges( \"chatbot\", tools_condition, \"tools\")\n",
    "\n",
    "# 只要工具被呼叫，流程就會回到 chatbot 節點，讓聊天機器人決定下一步\n",
    "graph_builder.add_edge(\"tools\", \"chatbot\")\n",
    "# 設定流程起始點，從 START 節點進入 chatbot 節點\n",
    "graph_builder.add_edge(START, \"chatbot\")"
   ]
  },
  {
   "cell_type": "code",
   "execution_count": null,
   "metadata": {},
   "outputs": [],
   "source": [
    "# Step 5: Compile the Graph\n",
    "graph = graph_builder.compile()\n",
    "display(Image(graph.get_graph().draw_mermaid_png()))"
   ]
  },
  {
   "cell_type": "markdown",
   "metadata": {},
   "source": [
    "### That's it! And, let's do this:"
   ]
  },
  {
   "cell_type": "code",
   "execution_count": null,
   "metadata": {},
   "outputs": [],
   "source": [
    "def chat(user_input: str, history):\n",
    "    result = graph.invoke({\"messages\": [{\"role\": \"user\", \"content\": user_input}]})\n",
    "    return result[\"messages\"][-1].content\n",
    "\n",
    "\n",
    "gr.ChatInterface(chat, type=\"messages\").launch()"
   ]
  },
  {
   "cell_type": "markdown",
   "metadata": {},
   "source": [
    "## 好吧，現在是時候加入記憶功能了！\n",
    "\n",
    "### 但是等等！\n",
    "\n",
    "我們有整個圖形在維護狀態並將其附加到狀態中。\n",
    "\n",
    "為什麼這不能處理記憶？\n",
    "\n",
    "### 這是理解 LangGraph 的關鍵點\n",
    "\n",
    "> 超步可以被認為是圖形節點上的一次迭代。並行運行的節點屬於同一超步，而順序運行的節點屬於不同的超步。\n",
    "\n",
    "一個圖形的 \"超步\" 代表在代理之間傳遞消息的一次調用。\n",
    "\n",
    "在 LangGraph 的慣用語中，您調用 invoke 來運行圖形的每個超步；每次交互。\n",
    "\n",
    "在一個超步內，reducer 自動處理狀態更新，但不會在超步之間處理。\n",
    "\n",
    "這就是檢查點的作用。"
   ]
  },
  {
   "cell_type": "code",
   "execution_count": null,
   "metadata": {},
   "outputs": [],
   "source": [
    "# 匯入 MemorySaver 類別，用於在記憶體中保存和管理檢查點的狀態\n",
    "from langgraph.checkpoint.memory import MemorySaver\n",
    "\n",
    "# 建立 MemorySaver 實例，該實例將用於保存圖形的狀態檢查點\n",
    "memory = MemorySaver()"
   ]
  },
  {
   "cell_type": "code",
   "execution_count": null,
   "metadata": {},
   "outputs": [],
   "source": [
    "# 步驟 1 和 2：初始化圖形建構器，並指定狀態類別\n",
    "# StateGraph 是 LangGraph 的核心類別，用於定義狀態圖的結構\n",
    "# State 是一個型別字典，定義了狀態的結構\n",
    "graph_builder = StateGraph(State)\n",
    "\n",
    "# 步驟 3：建立聊天模型並綁定工具\n",
    "# 初始化 OpenAI 聊天模型，指定使用 gpt-4o-mini 模型\n",
    "llm = ChatOpenAI(model=\"gpt-4o-mini\")\n",
    "# 將工具綁定到聊天模型，讓模型能夠使用這些工具進行操作\n",
    "llm_with_tools = llm.bind_tools(tools)\n",
    "\n",
    "# 定義 chatbot 節點，負責處理訊息並呼叫 LLM 工具\n",
    "# state 是一個包含訊息的字典，格式為 {\"messages\": [...]}\n",
    "def chatbot(state: State):\n",
    "    print(state)  # 輸出目前的狀態，方便除錯\n",
    "    # 呼叫 LLM 工具，並將回應包裝成新的訊息\n",
    "    return {\"messages\": [llm_with_tools.invoke(state[\"messages\"])]}\n",
    "\n",
    "# 將 chatbot 節點加入到圖形建構器中\n",
    "# 節點是圖形中的基本單位，代表一個操作或功能\n",
    "graph_builder.add_node(\"chatbot\", chatbot)\n",
    "# 將工具節點加入到圖形建構器中，讓流程能夠呼叫工具\n",
    "graph_builder.add_node(\"tools\", ToolNode(tools=tools))\n",
    "\n",
    "# 步驟 4：定義節點之間的連接（邊）\n",
    "# 設定條件式邊，當 tools_condition 成立時，從 chatbot 節點轉到 tools 節點\n",
    "# tools_condition 是一個函數，當 LLM 回覆帶有 \"tool_calls\" 時會回傳 True\n",
    "graph_builder.add_conditional_edges(\"chatbot\", tools_condition, \"tools\")\n",
    "\n",
    "# 設定無條件邊，從 tools 節點回到 chatbot 節點\n",
    "# 這樣可以讓聊天機器人決定下一步操作\n",
    "graph_builder.add_edge(\"tools\", \"chatbot\")\n",
    "# 設定起始邊，從 START 節點進入 chatbot 節點\n",
    "# START 是圖形的預設起始點\n",
    "graph_builder.add_edge(START, \"chatbot\")\n",
    "\n",
    "# 步驟 5：編譯圖形，並指定使用記憶檢查點\n",
    "# 編譯圖形後，生成一個可執行的圖形物件\n",
    "# **checkpointer 用於保存和恢復圖形的狀態，這裡使用記憶體檢查點**\n",
    "graph = graph_builder.compile(checkpointer=memory)\n",
    "# 使用 Mermaid 圖形語法生成圖形的視覺化表示，並顯示\n",
    "display(Image(graph.get_graph().draw_mermaid_png()))"
   ]
  },
  {
   "cell_type": "code",
   "execution_count": null,
   "metadata": {},
   "outputs": [],
   "source": [
    "config = {\"configurable\": {\"thread_id\": \"1\"}}\n",
    "\n",
    "def chat(user_input: str, history):\n",
    "    result = graph.invoke({\"messages\": [{\"role\": \"user\", \"content\": user_input}]}, config=config)\n",
    "    return result[\"messages\"][-1].content\n",
    "\n",
    "\n",
    "gr.ChatInterface(chat, type=\"messages\").launch()"
   ]
  },
  {
   "cell_type": "code",
   "execution_count": null,
   "metadata": {},
   "outputs": [],
   "source": [
    "graph.get_state(config)"
   ]
  },
  {
   "cell_type": "code",
   "execution_count": null,
   "metadata": {},
   "outputs": [],
   "source": [
    "# Most recent first\n",
    "\n",
    "list(graph.get_state_history(config))"
   ]
  },
  {
   "cell_type": "markdown",
   "metadata": {},
   "source": [
    "### LangGraph 提供工具將狀態回溯到之前的某個時間點，並從該點分支：\n",
    "\n",
    "```\n",
    "config = {\"configurable\": {\"thread_id\": \"1\", \"checkpoint_id\": ...}}\n",
    "graph.invoke(None, config=config)\n",
    "```\n",
    "\n",
    "這使您能夠構建穩定的系統，並可從任何先前的檢查點恢復和重新運行。"
   ]
  },
  {
   "cell_type": "markdown",
   "metadata": {},
   "source": [
    "### And now let's store in SQL\n",
    "\n",
    "### And this is the power of LangGraph."
   ]
  },
  {
   "cell_type": "code",
   "execution_count": null,
   "metadata": {},
   "outputs": [],
   "source": [
    "import sqlite3\n",
    "from langgraph.checkpoint.sqlite import SqliteSaver\n",
    "\n",
    "db_path = \"memory.db\"\n",
    "conn = sqlite3.connect(db_path, check_same_thread=False)\n",
    "sql_memory = SqliteSaver(conn)"
   ]
  },
  {
   "cell_type": "code",
   "execution_count": null,
   "metadata": {},
   "outputs": [],
   "source": [
    "# 步驟 1 和 2：初始化圖形建構器，並指定狀態類別\n",
    "# StateGraph 是 LangGraph 的核心類別，用於定義狀態圖的結構\n",
    "# State 是一個型別字典，定義了狀態的結構\n",
    "graph_builder = StateGraph(State)\n",
    "\n",
    "# 步驟 3：建立聊天模型並綁定工具\n",
    "# 初始化 OpenAI 聊天模型，指定使用 gpt-4o-mini 模型\n",
    "llm = ChatOpenAI(model=\"gpt-4o-mini\")\n",
    "# 將工具綁定到聊天模型，讓模型能夠使用這些工具進行操作\n",
    "llm_with_tools = llm.bind_tools(tools)\n",
    "\n",
    "# 定義 chatbot 節點，負責處理訊息並呼叫 LLM 工具\n",
    "# state 是一個包含訊息的字典，格式為 {\"messages\": [...]}\n",
    "def chatbot(state: State):\n",
    "    print(state)  # 輸出目前的狀態，方便除錯\n",
    "    # 呼叫 LLM 工具，並將回應包裝成新的訊息\n",
    "    return {\"messages\": [llm_with_tools.invoke(state[\"messages\"])]}\n",
    "\n",
    "# 將 chatbot 節點加入到圖形建構器中\n",
    "# 節點是圖形中的基本單位，代表一個操作或功能\n",
    "graph_builder.add_node(\"chatbot\", chatbot)\n",
    "# 將工具節點加入到圖形建構器中，讓流程能夠呼叫工具\n",
    "graph_builder.add_node(\"tools\", ToolNode(tools=tools))\n",
    "\n",
    "# 步驟 4：定義節點之間的連接（邊）\n",
    "# 設定條件式邊，當 tools_condition 成立時，從 chatbot 節點轉到 tools 節點\n",
    "# tools_condition 是一個函數，當 LLM 回覆帶有 \"tool_calls\" 時會回傳 True\n",
    "graph_builder.add_conditional_edges(\"chatbot\", tools_condition, \"tools\")\n",
    "\n",
    "# 設定無條件邊，從 tools 節點回到 chatbot 節點\n",
    "# 這樣可以讓聊天機器人決定下一步操作\n",
    "graph_builder.add_edge(\"tools\", \"chatbot\")\n",
    "# 設定起始邊，從 START 節點進入 chatbot 節點\n",
    "# START 是圖形的預設起始點\n",
    "graph_builder.add_edge(START, \"chatbot\")\n",
    "\n",
    "# 步驟 5：編譯圖形，並指定使用 SQL 檢查點\n",
    "# 編譯圖形後，生成一個可執行的圖形物件\n",
    "# **checkpointer 用於保存和恢復圖形的狀態，這裡使用基於 SQLite 的檢查點**\n",
    "graph = graph_builder.compile(checkpointer=sql_memory)\n",
    "# 使用 Mermaid 圖形語法生成圖形的視覺化表示，並顯示\n",
    "display(Image(graph.get_graph().draw_mermaid_png()))"
   ]
  },
  {
   "cell_type": "code",
   "execution_count": null,
   "metadata": {},
   "outputs": [],
   "source": [
    "config = {\"configurable\": {\"thread_id\": \"3\"}}\n",
    "\n",
    "def chat(user_input: str, history):\n",
    "    result = graph.invoke({\"messages\": [{\"role\": \"user\", \"content\": user_input}]}, config=config)\n",
    "    return result[\"messages\"][-1].content\n",
    "\n",
    "\n",
    "gr.ChatInterface(chat, type=\"messages\").launch()"
   ]
  }
 ],
 "metadata": {
  "kernelspec": {
   "display_name": ".venv",
   "language": "python",
   "name": "python3"
  },
  "language_info": {
   "codemirror_mode": {
    "name": "ipython",
    "version": 3
   },
   "file_extension": ".py",
   "mimetype": "text/x-python",
   "name": "python",
   "nbconvert_exporter": "python",
   "pygments_lexer": "ipython3",
   "version": "3.12.11"
  }
 },
 "nbformat": 4,
 "nbformat_minor": 2
}
