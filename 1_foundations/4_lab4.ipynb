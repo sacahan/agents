{
 "cells": [
  {
   "cell_type": "markdown",
   "metadata": {},
   "source": [
    "## 第一個大型專案 - 專業的你！\n",
    "\n",
    "### 以及，工具使用。\n",
    "\n",
    "### 但首先：介紹 Pushover\n",
    "\n",
    "Pushover 是一個用於向您的手機發送推送通知的巧妙工具。\n",
    "\n",
    "它的設置和安裝非常簡單！\n",
    "\n",
    "只需造訪 https://pushover.net/ 並點擊右上角的「Login or Signup」來註冊一個免費帳戶，並創建您的 API 金鑰。\n",
    "\n",
    "註冊完成後，在主畫面上點擊「Create an Application/API Token」，給它取一個名稱（例如 Agents），然後點擊「Create Application」。\n",
    "\n",
    "接著在您的 `.env` 文件中新增兩行：\n",
    "\n",
    "PUSHOVER_USER=_填入您 Pushover 主畫面右上角的金鑰，可能以 u 開頭_  \n",
    "PUSHOVER_TOKEN=_填入您新創建的名為 Agents（或其他名稱）的應用程式中的金鑰，可能以 a 開頭_\n",
    "\n",
    "記得保存您的 `.env` 文件，並在保存後執行 `load_dotenv(override=True)`，以設置您的環境變數。\n",
    "\n",
    "最後，點擊「Add Phone, Tablet or Desktop」來安裝到您的手機上。"
   ]
  },
  {
   "cell_type": "code",
   "execution_count": null,
   "metadata": {},
   "outputs": [],
   "source": [
    "# imports\n",
    "\n",
    "from dotenv import load_dotenv\n",
    "from openai import OpenAI\n",
    "import json\n",
    "import os\n",
    "import requests\n",
    "from pypdf import PdfReader\n",
    "import gradio as gr"
   ]
  },
  {
   "cell_type": "code",
   "execution_count": null,
   "metadata": {},
   "outputs": [],
   "source": [
    "# The usual start\n",
    "\n",
    "load_dotenv(override=True)\n",
    "openai = OpenAI()"
   ]
  },
  {
   "cell_type": "code",
   "execution_count": null,
   "metadata": {},
   "outputs": [],
   "source": [
    "# For pushover\n",
    "\n",
    "pushover_user = os.getenv(\"PUSHOVER_USER\")\n",
    "pushover_token = os.getenv(\"PUSHOVER_TOKEN\")\n",
    "pushover_url = \"https://api.pushover.net/1/messages.json\"\n",
    "\n",
    "if pushover_user:\n",
    "    print(f\"Pushover user found and starts with {pushover_user[0]}\")\n",
    "else:\n",
    "    print(\"Pushover user not found\")\n",
    "\n",
    "if pushover_token:\n",
    "    print(f\"Pushover token found and starts with {pushover_token[0]}\")\n",
    "else:\n",
    "    print(\"Pushover token not found\")"
   ]
  },
  {
   "cell_type": "code",
   "execution_count": null,
   "metadata": {},
   "outputs": [],
   "source": [
    "def push(message):\n",
    "    print(f\"Push: {message}\")\n",
    "    payload = {\"user\": pushover_user, \"token\": pushover_token, \"message\": message}\n",
    "    requests.post(pushover_url, data=payload)"
   ]
  },
  {
   "cell_type": "code",
   "execution_count": null,
   "metadata": {},
   "outputs": [],
   "source": [
    "push(\"HEY!!\")"
   ]
  },
  {
   "cell_type": "code",
   "execution_count": null,
   "metadata": {},
   "outputs": [],
   "source": [
    "def record_user_details(email, name=\"Name not provided\", notes=\"not provided\"):\n",
    "    push(f\"Recording interest from {name} with email {email} and notes {notes}\")\n",
    "    return {\"recorded\": \"ok\"}"
   ]
  },
  {
   "cell_type": "code",
   "execution_count": null,
   "metadata": {},
   "outputs": [],
   "source": [
    "def record_unknown_question(question):\n",
    "    push(f\"Recording {question} asked that I couldn't answer\")\n",
    "    return {\"recorded\": \"ok\"}"
   ]
  },
  {
   "cell_type": "code",
   "execution_count": null,
   "metadata": {},
   "outputs": [],
   "source": [
    "record_user_details_json = {\n",
    "    \"name\": \"record_user_details\",\n",
    "    \"description\": \"Use this tool to record that a user is interested in being in touch and provided an email address\",\n",
    "    \"parameters\": {\n",
    "        \"type\": \"object\",\n",
    "        \"properties\": {\n",
    "            \"email\": {\n",
    "                \"type\": \"string\",\n",
    "                \"description\": \"The email address of this user\"\n",
    "            },\n",
    "            \"name\": {\n",
    "                \"type\": \"string\",\n",
    "                \"description\": \"The user's name, if they provided it\"\n",
    "            }\n",
    "            ,\n",
    "            \"notes\": {\n",
    "                \"type\": \"string\",\n",
    "                \"description\": \"Any additional information about the conversation that's worth recording to give context\"\n",
    "            }\n",
    "        },\n",
    "        \"required\": [\"email\"],\n",
    "        \"additionalProperties\": False\n",
    "    }\n",
    "}"
   ]
  },
  {
   "cell_type": "code",
   "execution_count": null,
   "metadata": {},
   "outputs": [],
   "source": [
    "record_unknown_question_json = {\n",
    "    \"name\": \"record_unknown_question\",\n",
    "    \"description\": \"Always use this tool to record any question that couldn't be answered as you didn't know the answer\",\n",
    "    \"parameters\": {\n",
    "        \"type\": \"object\",\n",
    "        \"properties\": {\n",
    "            \"question\": {\n",
    "                \"type\": \"string\",\n",
    "                \"description\": \"The question that couldn't be answered\"\n",
    "            },\n",
    "        },\n",
    "        \"required\": [\"question\"],\n",
    "        \"additionalProperties\": False\n",
    "    }\n",
    "}"
   ]
  },
  {
   "cell_type": "code",
   "execution_count": null,
   "metadata": {},
   "outputs": [],
   "source": [
    "# JSONB是一種用於描述 tool 的 JSON 格式，這些 tool 可以在 OpenAI 的 API 中使用。\n",
    "tools = [{\"type\": \"function\", \"function\": record_user_details_json},\n",
    "        {\"type\": \"function\", \"function\": record_unknown_question_json}]"
   ]
  },
  {
   "cell_type": "code",
   "execution_count": null,
   "metadata": {},
   "outputs": [],
   "source": [
    "tools"
   ]
  },
  {
   "cell_type": "code",
   "execution_count": null,
   "metadata": {},
   "outputs": [],
   "source": [
    "# 這個函式可以接收一個工具呼叫的列表，並執行它們。這是使用 IF 條件語句的版本!!\n",
    "\n",
    "def handle_tool_calls(tool_calls):\n",
    "    results = []\n",
    "    for tool_call in tool_calls:\n",
    "        tool_name = tool_call.function.name  # 從工具呼叫中取得工具名稱\n",
    "        arguments = json.loads(tool_call.function.arguments)  # 將工具呼叫的參數轉換為字典\n",
    "        print(f\"Tool called: {tool_name}\", flush=True)  # 印出被呼叫的工具名稱\n",
    "\n",
    "        # 這是主要的 IF 條件語句!!!\n",
    "\n",
    "        if tool_name == \"record_user_details\":  # 如果工具名稱是 record_user_details\n",
    "            result = record_user_details(**arguments)  # 呼叫 record_user_details 函式並傳入參數\n",
    "        elif tool_name == \"record_unknown_question\":  # 如果工具名稱是 record_unknown_question\n",
    "            result = record_unknown_question(**arguments)  # 呼叫 record_unknown_question 函式並傳入參數\n",
    "\n",
    "        # 將結果加入結果列表\n",
    "        results.append({\"role\": \"tool\", \"content\": json.dumps(result), \"tool_call_id\": tool_call.id})\n",
    "    return results  # 返回所有工具呼叫的結果"
   ]
  },
  {
   "cell_type": "code",
   "execution_count": null,
   "metadata": {},
   "outputs": [],
   "source": [
    "globals()[\"record_unknown_question\"](\"this is a really hard question\")"
   ]
  },
  {
   "cell_type": "code",
   "execution_count": null,
   "metadata": {},
   "outputs": [],
   "source": [
    "# 這是一種更優雅的方式，避免使用 IF 條件語句。\n",
    "\n",
    "def handle_tool_calls(tool_calls):\n",
    "    results = []\n",
    "    for tool_call in tool_calls:\n",
    "        tool_name = tool_call.function.name  # 從工具呼叫中取得工具名稱\n",
    "        arguments = json.loads(tool_call.function.arguments)  # 將工具呼叫的參數轉換為字典\n",
    "        print(f\"Tool called: {tool_name}\", flush=True)  # 印出被呼叫的工具名稱\n",
    "        tool = globals().get(tool_name)  # 從全域變數中取得對應的工具函式\n",
    "        result = tool(**arguments) if tool else {}  # 如果工具存在，執行工具函式，否則返回空字典\n",
    "        results.append({\"role\": \"tool\",\"content\": json.dumps(result),\"tool_call_id\": tool_call.id})  # 將結果加入結果列表\n",
    "    return results  # 返回所有工具呼叫的結果"
   ]
  },
  {
   "cell_type": "code",
   "execution_count": null,
   "metadata": {},
   "outputs": [],
   "source": [
    "reader = PdfReader(\"me/linkedin.pdf\")\n",
    "linkedin = \"\"\n",
    "for page in reader.pages:\n",
    "    text = page.extract_text()\n",
    "    if text:\n",
    "        linkedin += text\n",
    "\n",
    "with open(\"me/summary.txt\", \"r\", encoding=\"utf-8\") as f:\n",
    "    summary = f.read()\n",
    "\n",
    "name = \"Ed Donner\""
   ]
  },
  {
   "cell_type": "code",
   "execution_count": null,
   "metadata": {},
   "outputs": [],
   "source": [
    "system_prompt = f\"您正在扮演 {name} 的角色。您正在 {name} 的網站上回答問題，\\\n",
    "特別是與 {name} 的職業、生涯背景、技能和經驗相關的問題。\\\n",
    "您的責任是盡可能忠實地代表 {name} 與網站上的訪客互動。\\\n",
    "您將獲得一份 {name} 的背景摘要和 LinkedIn 簡介，您可以使用這些資訊來回答問題。\\\n",
    "請保持專業且具有吸引力，就像在與潛在客戶或未來雇主交談一樣，他們可能偶然發現了這個網站。\\\n",
    "如果您不知道任何問題的答案，請使用您的 record_unknown_question 工具記錄您無法回答的問題，即使這些問題是關於一些瑣碎或與職業無關的事情。\\\n",
    "如果用戶正在進行討論，請嘗試引導他們通過電子郵件聯繫；詢問他們的電子郵件，並使用您的 record_user_details 工具記錄下來。\"\n",
    "\n",
    "system_prompt += f\"\\n\\n## 摘要:\\n{summary}\\n\\n## LinkedIn 簡介:\\n{linkedin}\\n\\n\"\n",
    "system_prompt += f\"基於這些背景資訊，請與用戶聊天，始終以 {name} 的角色進行對話。\"\n"
   ]
  },
  {
   "cell_type": "code",
   "execution_count": null,
   "metadata": {},
   "outputs": [],
   "source": [
    "def chat(message, history):\n",
    "    messages = [{\"role\": \"system\", \"content\": system_prompt}] + history + [{\"role\": \"user\", \"content\": message}]\n",
    "    done = False\n",
    "    while not done:\n",
    "\n",
    "        # This is the call to the LLM - see that we pass in the tools json\n",
    "\n",
    "        response = openai.chat.completions.create(model=\"gpt-4o-mini\", messages=messages, tools=tools)\n",
    "\n",
    "        finish_reason = response.choices[0].finish_reason\n",
    "        \n",
    "        # If the LLM wants to call a tool, we do that!\n",
    "         \n",
    "        if finish_reason==\"tool_calls\":\n",
    "            message = response.choices[0].message\n",
    "            tool_calls = message.tool_calls\n",
    "            results = handle_tool_calls(tool_calls)\n",
    "            messages.append(message)\n",
    "            messages.extend(results)\n",
    "        else:\n",
    "            done = True\n",
    "    return response.choices[0].message.content"
   ]
  },
  {
   "cell_type": "code",
   "execution_count": null,
   "metadata": {},
   "outputs": [],
   "source": [
    "gr.ChatInterface(chat, type=\"messages\").launch()"
   ]
  },
  {
   "cell_type": "markdown",
   "metadata": {},
   "source": [
    "# 現在進行部署\n",
    "\n",
    "此程式碼位於 `app.py`\n",
    "\n",
    "我們將部署到 HuggingFace Spaces。\n",
    "\n",
    "在開始之前：記得更新 \"me\" 目錄中的檔案 - 您的 LinkedIn 簡介和 summary.txt - 讓它能夠描述您！同時在 `app.py` 中更改 `self.name = \"Ed Donner\"`。\n",
    "\n",
    "另外，檢查 1_foundations 目錄中是否有 README 檔案。如果有，請刪除它。部署過程會在此目錄中為您創建一個新的 README 檔案。\n",
    "\n",
    "1. 造訪 https://huggingface.co 並建立一個帳戶  \n",
    "2. 從右上角的頭像選單中選擇 Access Tokens。選擇 \"Create New Token\"。給它 WRITE 權限 - 它需要具有 WRITE 權限！記下您的新金鑰。  \n",
    "3. 在終端機中執行：`uv tool install 'huggingface_hub[cli]'` 來安裝 HuggingFace 工具，然後執行 `hf auth login` 使用您的金鑰在命令列中登入。之後，執行 `hf auth whoami` 檢查您是否已登入  \n",
    "4. 將您的新金鑰新增到您的 .env 檔案中：`HF_TOKEN=hf_xxx` 以供未來使用  \n",
    "5. 從 1_foundations 資料夾中輸入：`uv run gradio deploy`  \n",
    "6. 按照指示操作：命名為 \"career_conversation\"，指定 app.py，選擇 cpu-basic 作為硬體，選擇需要提供密鑰，提供您的 openai api key、pushover user 和 token，並選擇 \"no\" 不使用 github actions。  \n",
    "\n",
    "感謝 Robert、James、Martins、Andras 和 Priya 提供這些提示。  \n",
    "請閱讀接下來的兩個部分 - 如何更改您的密鑰，以及如何重新部署您的 Space（您可能需要刪除在此 1_foundations 目錄中創建的 README.md）。\n",
    "\n",
    "#### 關於這些密鑰的更多資訊：\n",
    "\n",
    "如果您對這些密鑰的操作感到困惑：它只是要求您輸入每個密鑰的名稱和值 -- 因此您需要輸入：  \n",
    "`OPENAI_API_KEY`  \n",
    "接著輸入：  \n",
    "`sk-proj-...`  \n",
    "\n",
    "如果您不想以這種方式設置密鑰，或者出現問題，也沒關係 - 您可以稍後更改您的密鑰：  \n",
    "1. 登入 HuggingFace 網站  \n",
    "2. 通過右上角的頭像選單進入您的個人資料頁面  \n",
    "3. 選擇您部署的 Space  \n",
    "4. 點擊右上角的設定齒輪  \n",
    "5. 您可以向下滾動更改您的密鑰（變數和密鑰部分）、刪除 Space 等。\n",
    "\n",
    "#### 現在您應該已經部署完成！\n",
    "\n",
    "如果您想完全替換所有內容並重新開始使用您的密鑰，您可能需要刪除在此 1_foundations 資料夾中創建的 README.md。\n",
    "\n",
    "這是我的範例：https://huggingface.co/spaces/ed-donner/Career_Conversation\n",
    "\n",
    "我剛收到一個推送通知，有位學生問我如何成為他們國家的總統 😂😂\n",
    "\n",
    "有關部署的更多資訊：\n",
    "\n",
    "https://www.gradio.app/guides/sharing-your-app#hosting-on-hf-spaces\n",
    "\n",
    "若要在未來刪除您的 Space：  \n",
    "1. 登入 HuggingFace  \n",
    "2. 從頭像選單中選擇您的個人資料  \n",
    "3. 點擊該 Space 並選擇右上角的設定齒輪  \n",
    "4. 向下滾動到底部的刪除部分  \n",
    "5. 另外：刪除 Gradio 可能在此 1_foundations 資料夾中創建的 README 檔案（否則下次執行 gradio deploy 時不會再次詢問您問題）# And now for deployment\n",
    "\n",
    "<!-- This code is in `app.py`\n",
    "\n",
    "We will deploy to HuggingFace Spaces.\n",
    "\n",
    "Before you start: remember to update the files in the \"me\" directory - your LinkedIn profile and summary.txt - so that it talks about you! Also change `self.name = \"Ed Donner\"` in `app.py`..  \n",
    "\n",
    "Also check that there's no README file within the 1_foundations directory. If there is one, please delete it. The deploy process creates a new README file in this directory for you.\n",
    "\n",
    "1. Visit https://huggingface.co and set up an account  \n",
    "2. From the Avatar menu on the top right, choose Access Tokens. Choose \"Create New Token\". Give it WRITE permissions - it needs to have WRITE permissions! Keep a record of your new key.  \n",
    "3. In the Terminal, run: `uv tool install 'huggingface_hub[cli]'` to install the HuggingFace tool, then `hf auth login` to login at the command line with your key. Afterwards, run `hf auth whoami` to check you're logged in  \n",
    "4. Take your new token and add it to your .env file: `HF_TOKEN=hf_xxx` for the future\n",
    "5. From the 1_foundations folder, enter: `uv run gradio deploy` \n",
    "6. Follow its instructions: name it \"career_conversation\", specify app.py, choose cpu-basic as the hardware, say Yes to needing to supply secrets, provide your openai api key, your pushover user and token, and say \"no\" to github actions.  \n",
    "\n",
    "Thank you Robert, James, Martins, Andras and Priya for these tips.  \n",
    "Please read the next 2 sections - how to change your Secrets, and how to redeploy your Space (you may need to delete the README.md that gets created in this 1_foundations directory).\n",
    "\n",
    "#### More about these secrets:\n",
    "\n",
    "If you're confused by what's going on with these secrets: it just wants you to enter the key name and value for each of your secrets -- so you would enter:  \n",
    "`OPENAI_API_KEY`  \n",
    "Followed by:  \n",
    "`sk-proj-...`  \n",
    "\n",
    "And if you don't want to set secrets this way, or something goes wrong with it, it's no problem - you can change your secrets later:  \n",
    "1. Log in to HuggingFace website  \n",
    "2. Go to your profile screen via the Avatar menu on the top right  \n",
    "3. Select the Space you deployed  \n",
    "4. Click on the Settings wheel on the top right  \n",
    "5. You can scroll down to change your secrets (Variables and Secrets section), delete the space, etc.\n",
    "\n",
    "#### And now you should be deployed!\n",
    "\n",
    "If you want to completely replace everything and start again with your keys, you may need to delete the README.md that got created in this 1_foundations folder.\n",
    "\n",
    "Here is mine: https://huggingface.co/spaces/ed-donner/Career_Conversation\n",
    "\n",
    "I just got a push notification that a student asked me how they can become President of their country 😂😂\n",
    "\n",
    "For more information on deployment:\n",
    "\n",
    "https://www.gradio.app/guides/sharing-your-app#hosting-on-hf-spaces\n",
    "\n",
    "To delete your Space in the future:  \n",
    "1. Log in to HuggingFace\n",
    "2. From the Avatar menu, select your profile\n",
    "3. Click on the Space itself and select the settings wheel on the top right\n",
    "4. Scroll to the Delete section at the bottom\n",
    "5. ALSO: delete the README file that Gradio may have created inside this 1_foundations folder (otherwise it won't ask you the questions the next time you do a gradio deploy) -->\n"
   ]
  },
  {
   "cell_type": "markdown",
   "metadata": {},
   "source": [
    "<table style=\"margin: 0; text-align: left; width:100%\">\n",
    "    <tr>\n",
    "        <td style=\"width: 150px; height: 150px; vertical-align: middle;\">\n",
    "            <img src=\"../assets/exercise.png\" width=\"150\" height=\"150\" style=\"display: block;\" />\n",
    "        </td>\n",
    "        <td>\n",
    "            <h2 style=\"color:#ff7800;\">Exercise</h2>\n",
    "            <span style=\"color:#ff7800;\">• First and foremost, deploy this for yourself! It's a real, valuable tool - the future resume..<br/>\n",
    "            • Next, improve the resources - add better context about yourself. If you know RAG, then add a knowledge base about you.<br/>\n",
    "            • Add in more tools! You could have a SQL database with common Q&A that the LLM could read and write from?<br/>\n",
    "            • Bring in the Evaluator from the last lab, and add other Agentic patterns.\n",
    "            </span>\n",
    "        </td>\n",
    "    </tr>\n",
    "</table>"
   ]
  },
  {
   "cell_type": "markdown",
   "metadata": {},
   "source": [
    "<table style=\"margin: 0; text-align: left; width:100%\">\n",
    "    <tr>\n",
    "        <td style=\"width: 150px; height: 150px; vertical-align: middle;\">\n",
    "            <img src=\"../assets/business.png\" width=\"150\" height=\"150\" style=\"display: block;\" />\n",
    "        </td>\n",
    "        <td>\n",
    "            <h2 style=\"color:#00bfff;\">Commercial implications</h2>\n",
    "            <span style=\"color:#00bfff;\">Aside from the obvious (your career alter-ego) this has business applications in any situation where you need an AI assistant with domain expertise and an ability to interact with the real world.\n",
    "            </span>\n",
    "        </td>\n",
    "    </tr>\n",
    "</table>"
   ]
  }
 ],
 "metadata": {
  "kernelspec": {
   "display_name": ".venv",
   "language": "python",
   "name": "python3"
  },
  "language_info": {
   "codemirror_mode": {
    "name": "ipython",
    "version": 3
   },
   "file_extension": ".py",
   "mimetype": "text/x-python",
   "name": "python",
   "nbconvert_exporter": "python",
   "pygments_lexer": "ipython3",
   "version": "3.12.4"
  }
 },
 "nbformat": 4,
 "nbformat_minor": 2
}
